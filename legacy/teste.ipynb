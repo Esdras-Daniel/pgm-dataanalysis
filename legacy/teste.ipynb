{
 "cells": [
  {
   "cell_type": "code",
   "execution_count": 5,
   "metadata": {},
   "outputs": [],
   "source": [
    "import pandas as pd"
   ]
  },
  {
   "cell_type": "code",
   "execution_count": 6,
   "metadata": {},
   "outputs": [],
   "source": [
    "df = pd.read_csv('./data/novos_DataFrames/df_selecionado.csv')"
   ]
  },
  {
   "cell_type": "code",
   "execution_count": 7,
   "metadata": {},
   "outputs": [
    {
     "data": {
      "text/html": [
       "<div>\n",
       "<style scoped>\n",
       "    .dataframe tbody tr th:only-of-type {\n",
       "        vertical-align: middle;\n",
       "    }\n",
       "\n",
       "    .dataframe tbody tr th {\n",
       "        vertical-align: top;\n",
       "    }\n",
       "\n",
       "    .dataframe thead th {\n",
       "        text-align: right;\n",
       "    }\n",
       "</style>\n",
       "<table border=\"1\" class=\"dataframe\">\n",
       "  <thead>\n",
       "    <tr style=\"text-align: right;\">\n",
       "      <th></th>\n",
       "      <th>teorTexto</th>\n",
       "      <th>setorDestino</th>\n",
       "      <th>tipoAviso</th>\n",
       "      <th>orgaoJulgador</th>\n",
       "      <th>assuntos</th>\n",
       "      <th>documentos</th>\n",
       "      <th>anexos</th>\n",
       "      <th>classeProcesso</th>\n",
       "      <th>qtd_sentenca</th>\n",
       "      <th>qtd_acordao</th>\n",
       "      <th>qtd_transito_julgado</th>\n",
       "      <th>novoSetorDestino</th>\n",
       "    </tr>\n",
       "  </thead>\n",
       "  <tbody>\n",
       "    <tr>\n",
       "      <th>0</th>\n",
       "      <td>PODER JUDICIÁRIO DO ESTADO DO RIO GRANDE DO NO...</td>\n",
       "      <td>APOIO FISCAL</td>\n",
       "      <td>IntimaÆo</td>\n",
       "      <td>4ª Vara de Execução Fiscal e Tributária de Natal</td>\n",
       "      <td>10536;5952</td>\n",
       "      <td>Petição;Intimação;Diligência;Citação;expedir m...</td>\n",
       "      <td>cda;ficha do imóvel;Sinesp Infoseg - 62581BC5-...</td>\n",
       "      <td>1116</td>\n",
       "      <td>0</td>\n",
       "      <td>0</td>\n",
       "      <td>0</td>\n",
       "      <td>APOIO FISCAL</td>\n",
       "    </tr>\n",
       "    <tr>\n",
       "      <th>1</th>\n",
       "      <td>PODER JUDICIÁRIO DO ESTADO DO RIO GRANDE DO NO...</td>\n",
       "      <td>APOIO FISCAL</td>\n",
       "      <td>IntimaÆo</td>\n",
       "      <td>4ª Vara de Execução Fiscal e Tributária de Natal</td>\n",
       "      <td>10536;5952</td>\n",
       "      <td>Petição;Intimação;Certidão;Portaria conjunta;C...</td>\n",
       "      <td>COMPROVANTE ENDEREÇO;FICHA DO IMÓVEL;CDA;08548...</td>\n",
       "      <td>1116</td>\n",
       "      <td>0</td>\n",
       "      <td>0</td>\n",
       "      <td>0</td>\n",
       "      <td>APOIO FISCAL</td>\n",
       "    </tr>\n",
       "    <tr>\n",
       "      <th>2</th>\n",
       "      <td>PODER JUDICIÁRIO DO ESTADO DO RIO GRANDE DO NO...</td>\n",
       "      <td>APOIO FISCAL</td>\n",
       "      <td>IntimaÆo</td>\n",
       "      <td>4ª Vara de Execução Fiscal e Tributária de Natal</td>\n",
       "      <td>10536;5952</td>\n",
       "      <td>Petição;Intimação;Diligência;Intimação;Certidã...</td>\n",
       "      <td>cda;renach;RENAJUD POSITIVO - NAJAK NAIBY MAUR...</td>\n",
       "      <td>1116</td>\n",
       "      <td>0</td>\n",
       "      <td>0</td>\n",
       "      <td>0</td>\n",
       "      <td>APOIO FISCAL</td>\n",
       "    </tr>\n",
       "  </tbody>\n",
       "</table>\n",
       "</div>"
      ],
      "text/plain": [
       "                                           teorTexto  setorDestino  tipoAviso  \\\n",
       "0  PODER JUDICIÁRIO DO ESTADO DO RIO GRANDE DO NO...  APOIO FISCAL  IntimaÆo   \n",
       "1  PODER JUDICIÁRIO DO ESTADO DO RIO GRANDE DO NO...  APOIO FISCAL  IntimaÆo   \n",
       "2  PODER JUDICIÁRIO DO ESTADO DO RIO GRANDE DO NO...  APOIO FISCAL  IntimaÆo   \n",
       "\n",
       "                                      orgaoJulgador    assuntos  \\\n",
       "0  4ª Vara de Execução Fiscal e Tributária de Natal  10536;5952   \n",
       "1  4ª Vara de Execução Fiscal e Tributária de Natal  10536;5952   \n",
       "2  4ª Vara de Execução Fiscal e Tributária de Natal  10536;5952   \n",
       "\n",
       "                                          documentos  \\\n",
       "0  Petição;Intimação;Diligência;Citação;expedir m...   \n",
       "1  Petição;Intimação;Certidão;Portaria conjunta;C...   \n",
       "2  Petição;Intimação;Diligência;Intimação;Certidã...   \n",
       "\n",
       "                                              anexos  classeProcesso  \\\n",
       "0  cda;ficha do imóvel;Sinesp Infoseg - 62581BC5-...            1116   \n",
       "1  COMPROVANTE ENDEREÇO;FICHA DO IMÓVEL;CDA;08548...            1116   \n",
       "2  cda;renach;RENAJUD POSITIVO - NAJAK NAIBY MAUR...            1116   \n",
       "\n",
       "   qtd_sentenca  qtd_acordao  qtd_transito_julgado novoSetorDestino  \n",
       "0             0            0                     0     APOIO FISCAL  \n",
       "1             0            0                     0     APOIO FISCAL  \n",
       "2             0            0                     0     APOIO FISCAL  "
      ]
     },
     "execution_count": 7,
     "metadata": {},
     "output_type": "execute_result"
    }
   ],
   "source": [
    "df.head(3)"
   ]
  },
  {
   "cell_type": "code",
   "execution_count": 10,
   "metadata": {},
   "outputs": [],
   "source": [
    "df_teorTexto = df[['teorTexto', 'novoSetorDestino']]\n",
    "df_teorTexto.to_csv('./data/novos_DataFrames/pgm-dataset-teorTexto.csv', index=False)"
   ]
  },
  {
   "cell_type": "code",
   "execution_count": 14,
   "metadata": {},
   "outputs": [],
   "source": [
    "df_sem_teorTexto = df.drop('teorTexto', axis=1)"
   ]
  },
  {
   "cell_type": "code",
   "execution_count": 9,
   "metadata": {},
   "outputs": [],
   "source": [
    "def abreviar_nome(nome):\n",
    "    substituicoes = {\n",
    "        \"Vara de Execução Fiscal e Tributária\": \"VET\",\n",
    "        \"Vara da Fazenda Pública\": \"VFP\",\n",
    "        \"Vara da Infância e Juventude\": \"VIJ\",\n",
    "        \"Vara Cível\": \"VC\",\n",
    "        \"Vara de Família e Sucessões\": \"VF e S\",\n",
    "        \"Juizado da Fazenda Pública\": \"JFP\",\n",
    "        \"Juizado Especial da Fazenda Pública\": \"JEFP\",\n",
    "        \"Juizado Especial Cível, Criminal e da Fazenda Pública\": \"JECFP\",\n",
    "        \"Gabinete\": \"Gab.\",\n",
    "        \"Des.\": \"Des.\",\n",
    "        \"Juiz\": \"J.\",\n",
    "        \"Presidente\": \"Pres.\",\n",
    "        \"Câmara Cível\": \"CC\",\n",
    "        \"Turma Recursal\": \"TR\",\n",
    "        \"Comarca de Natal\": \"Com NAT\",\n",
    "        \"Comarca de Mossoró\": \"Com MOS\",\n",
    "        \"Comarca de Parelhas\": \"Com PAR\",\n",
    "        \"Comarca de São Miguel\": \"Com SMG\",\n",
    "        \"Comarca de Apodi\": \"Com APO\",\n",
    "        \"Comarca de Touros\": \"Com TOU\",\n",
    "        \"Comarca de Currais Novos\": \"Com CN\",\n",
    "        \"Pleno\": \"PL\"\n",
    "    }\n",
    "    \n",
    "    for chave, valor in substituicoes.items():\n",
    "        nome = nome.replace(chave, valor)\n",
    "    \n",
    "    return nome\n",
    "\n",
    "df['orgaoJulgador'] = df['orgaoJulgador'].apply(abreviar_nome)"
   ]
  },
  {
   "cell_type": "code",
   "execution_count": 11,
   "metadata": {},
   "outputs": [],
   "source": [
    "df.to_csv('./data/novos_DataFrames/df_selecionado.csv', index=False)"
   ]
  },
  {
   "cell_type": "code",
   "execution_count": 30,
   "metadata": {},
   "outputs": [],
   "source": [
    "df_sem_teorTexto = df_sem_teorTexto.drop('orgaoJulgador_abrev', axis=1)"
   ]
  },
  {
   "cell_type": "code",
   "execution_count": 32,
   "metadata": {},
   "outputs": [],
   "source": [
    "df_sem_teorTexto.to_csv('./data/novos_DataFrames/pgm-dataset-sem-teorTexto.csv', index=False)"
   ]
  }
 ],
 "metadata": {
  "kernelspec": {
   "display_name": ".venv",
   "language": "python",
   "name": "python3"
  },
  "language_info": {
   "codemirror_mode": {
    "name": "ipython",
    "version": 3
   },
   "file_extension": ".py",
   "mimetype": "text/x-python",
   "name": "python",
   "nbconvert_exporter": "python",
   "pygments_lexer": "ipython3",
   "version": "3.12.3"
  }
 },
 "nbformat": 4,
 "nbformat_minor": 2
}
