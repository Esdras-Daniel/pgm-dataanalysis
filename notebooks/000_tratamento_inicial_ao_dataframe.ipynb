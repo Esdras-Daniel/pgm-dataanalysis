{
 "cells": [
  {
   "cell_type": "code",
   "execution_count": 1,
   "metadata": {},
   "outputs": [
    {
     "name": "stderr",
     "output_type": "stream",
     "text": [
      "[nltk_data] Downloading package stopwords to /home/esdras-\n",
      "[nltk_data]     daniel/nltk_data...\n",
      "[nltk_data]   Package stopwords is already up-to-date!\n"
     ]
    }
   ],
   "source": [
    "import sys\n",
    "import os\n",
    "\n",
    "# Adiciona o diretório raiz ao path\n",
    "sys.path.append(os.path.abspath(os.path.join(os.getcwd(), \"..\")))\n",
    "from utils.text import normaliza_texto\n",
    "\n",
    "import pandas as pd"
   ]
  },
  {
   "cell_type": "code",
   "execution_count": 2,
   "metadata": {},
   "outputs": [],
   "source": [
    "df = pd.read_csv('/home/esdras-daniel/Documentos/Python/PGM-DataAnalysis/data/raw/pgm-dataset.csv')"
   ]
  },
  {
   "cell_type": "code",
   "execution_count": 3,
   "metadata": {},
   "outputs": [
    {
     "data": {
      "text/html": [
       "<div>\n",
       "<style scoped>\n",
       "    .dataframe tbody tr th:only-of-type {\n",
       "        vertical-align: middle;\n",
       "    }\n",
       "\n",
       "    .dataframe tbody tr th {\n",
       "        vertical-align: top;\n",
       "    }\n",
       "\n",
       "    .dataframe thead th {\n",
       "        text-align: right;\n",
       "    }\n",
       "</style>\n",
       "<table border=\"1\" class=\"dataframe\">\n",
       "  <thead>\n",
       "    <tr style=\"text-align: right;\">\n",
       "      <th></th>\n",
       "      <th>teorTexto</th>\n",
       "      <th>idAviso</th>\n",
       "      <th>setorDestino</th>\n",
       "      <th>dataAviso</th>\n",
       "      <th>tipoAviso</th>\n",
       "      <th>orgaoJulgador</th>\n",
       "      <th>assuntos</th>\n",
       "      <th>documentos</th>\n",
       "      <th>anexos</th>\n",
       "      <th>classeProcesso</th>\n",
       "    </tr>\n",
       "  </thead>\n",
       "  <tbody>\n",
       "    <tr>\n",
       "      <th>0</th>\n",
       "      <td>PODER JUDICIÁRIO ESTADO DO RIO GRANDE DO NORTE...</td>\n",
       "      <td>18612632.0</td>\n",
       "      <td>Procuradoria da Sa�de</td>\n",
       "      <td>2024-06-21 05:00:40</td>\n",
       "      <td>IntimaÆo</td>\n",
       "      <td>2ª Vara da Infância e Juventude da Comarca de ...</td>\n",
       "      <td>12485;12494</td>\n",
       "      <td>Decisão;Petição de manifestação;Despacho;Certi...</td>\n",
       "      <td>notaTecnica-228951.pdf - notaTecnica-228951;E-...</td>\n",
       "      <td>1706</td>\n",
       "    </tr>\n",
       "    <tr>\n",
       "      <th>1</th>\n",
       "      <td>PODER JUDICIÁRIO DO ESTADO DO RIO GRANDE DO NO...</td>\n",
       "      <td>18629258.0</td>\n",
       "      <td>Procuradoria Administrativa</td>\n",
       "      <td>2024-06-25 23:59:59</td>\n",
       "      <td>IntimaÆo</td>\n",
       "      <td>3º Juizado da Fazenda Pública da Comarca de Natal</td>\n",
       "      <td>10715</td>\n",
       "      <td>Notificação;Petição;Despacho;Diligência;Notifi...</td>\n",
       "      <td>FICHA FINANCEIRA;SEMAD - Joelma;08464942120228...</td>\n",
       "      <td>14695</td>\n",
       "    </tr>\n",
       "    <tr>\n",
       "      <th>2</th>\n",
       "      <td>PODER JUDICIÁRIO DO ESTADO DO RIO GRANDE DO NO...</td>\n",
       "      <td>18629422.0</td>\n",
       "      <td>CARTORIO</td>\n",
       "      <td>2024-06-18 09:27:16</td>\n",
       "      <td>IntimaÆo</td>\n",
       "      <td>3ª Vara de Execução Fiscal e Tributária de Natal</td>\n",
       "      <td>10536;5952</td>\n",
       "      <td>Certidão;Certidão;Sentença;Petição;Intimação;C...</td>\n",
       "      <td>0895416-93.2022, AR;Certidão de Dívida Ativa;C...</td>\n",
       "      <td>1116</td>\n",
       "    </tr>\n",
       "  </tbody>\n",
       "</table>\n",
       "</div>"
      ],
      "text/plain": [
       "                                           teorTexto     idAviso  \\\n",
       "0  PODER JUDICIÁRIO ESTADO DO RIO GRANDE DO NORTE...  18612632.0   \n",
       "1  PODER JUDICIÁRIO DO ESTADO DO RIO GRANDE DO NO...  18629258.0   \n",
       "2  PODER JUDICIÁRIO DO ESTADO DO RIO GRANDE DO NO...  18629422.0   \n",
       "\n",
       "                  setorDestino            dataAviso  tipoAviso  \\\n",
       "0        Procuradoria da Sa�de  2024-06-21 05:00:40  IntimaÆo   \n",
       "1  Procuradoria Administrativa  2024-06-25 23:59:59  IntimaÆo   \n",
       "2                     CARTORIO  2024-06-18 09:27:16  IntimaÆo   \n",
       "\n",
       "                                       orgaoJulgador     assuntos  \\\n",
       "0  2ª Vara da Infância e Juventude da Comarca de ...  12485;12494   \n",
       "1  3º Juizado da Fazenda Pública da Comarca de Natal        10715   \n",
       "2   3ª Vara de Execução Fiscal e Tributária de Natal   10536;5952   \n",
       "\n",
       "                                          documentos  \\\n",
       "0  Decisão;Petição de manifestação;Despacho;Certi...   \n",
       "1  Notificação;Petição;Despacho;Diligência;Notifi...   \n",
       "2  Certidão;Certidão;Sentença;Petição;Intimação;C...   \n",
       "\n",
       "                                              anexos  classeProcesso  \n",
       "0  notaTecnica-228951.pdf - notaTecnica-228951;E-...            1706  \n",
       "1  FICHA FINANCEIRA;SEMAD - Joelma;08464942120228...           14695  \n",
       "2  0895416-93.2022, AR;Certidão de Dívida Ativa;C...            1116  "
      ]
     },
     "execution_count": 3,
     "metadata": {},
     "output_type": "execute_result"
    }
   ],
   "source": [
    "df.head(3)"
   ]
  },
  {
   "cell_type": "markdown",
   "metadata": {},
   "source": [
    "# 1. Substituindo valores nas colunas"
   ]
  },
  {
   "cell_type": "markdown",
   "metadata": {},
   "source": [
    "## 1.1 - setorDestino"
   ]
  },
  {
   "cell_type": "code",
   "execution_count": 4,
   "metadata": {},
   "outputs": [],
   "source": [
    "setores_mapeamento = {\n",
    "    'Procuradoria Administrativa': 'Administrativa',\n",
    "    'Chefia Administrativa': 'Administrativa',\n",
    "    'SETOR DE ADMINISTRA�?O GERAL': 'Administrativa',\n",
    "\n",
    "    'Procuradoria Fiscal': 'Fiscal',\n",
    "    'APOIO FISCAL': 'Fiscal',\n",
    "    'CHEFIA FISCAL': 'Fiscal',\n",
    "\n",
    "    'Procuradoria da Sa�de': 'Saúde',\n",
    "\n",
    "    'Procuradoria Judicial': 'Judicial',\n",
    "    'Chefia Judicial': 'Judicial',\n",
    "\n",
    "    'Procuradoria do Meio Ambiente': 'Meio Ambiente',\n",
    "    'Chefia Meio Ambiente': 'Meio Ambiente',\n",
    "\n",
    "    'Chefia Patrimonial': 'Patrimonial',\n",
    "\n",
    "    'DEPARTAMENTO DE C�LCULOS E CONTABILIDADE': 'Contabilidade',\n",
    "    \n",
    "    'CARTORIO': 'Cartório',\n",
    "    'Assessoria - Gabinete': 'Cartório',\n",
    "    'Procuradoria Geral': 'Cartório',\n",
    "    'Procuradoria Geral Substituta': 'Cartório',\n",
    "\n",
    "    'Procuradoria de Recupera�?o da D�vida Ativa': 'PRDA'\n",
    "}"
   ]
  },
  {
   "cell_type": "code",
   "execution_count": 5,
   "metadata": {},
   "outputs": [],
   "source": [
    "# Substituindo os valores de 'setorDestino'\n",
    "#df['setorDestino'].replace(setores_mapeamento, inplace=True)\n",
    "df.replace({'setorDestino': setores_mapeamento}, inplace=True)"
   ]
  },
  {
   "cell_type": "code",
   "execution_count": 34,
   "metadata": {},
   "outputs": [
    {
     "data": {
      "text/plain": [
       "setorDestino\n",
       "Fiscal            6686\n",
       "Administrativa    5403\n",
       "Contabilidade     1338\n",
       "Judicial          1137\n",
       "Saúde              443\n",
       "Meio Ambiente      155\n",
       "Patrimonial        121\n",
       "Name: count, dtype: int64"
      ]
     },
     "execution_count": 34,
     "metadata": {},
     "output_type": "execute_result"
    }
   ],
   "source": [
    "df['setorDestino'].value_counts()"
   ]
  },
  {
   "cell_type": "markdown",
   "metadata": {},
   "source": [
    "## 1.2 - tipoAviso"
   ]
  },
  {
   "cell_type": "code",
   "execution_count": 14,
   "metadata": {},
   "outputs": [],
   "source": [
    "swap_erros = {'IntimaÆo': 'Intimação',\n",
    "              'CitaÆo': 'Citação',\n",
    "              'audincia': 'audiência',\n",
    "              'NotificaÆo': 'Notificação',\n",
    "              'Intima��o': 'Intimação'}\n",
    "\n",
    "df.replace({'tipoAviso': swap_erros}, regex=True, inplace=True)\n",
    "#df['tipoAviso'].replace(swap_erros, regex=True, inplace=True)"
   ]
  },
  {
   "cell_type": "code",
   "execution_count": 15,
   "metadata": {},
   "outputs": [
    {
     "data": {
      "text/plain": [
       "tipoAviso\n",
       "Intimação                 13632\n",
       "Intimação de Pauta         1254\n",
       "Citação                    1024\n",
       "Notificação                  25\n",
       "Intimação de audiência        7\n",
       "Name: count, dtype: int64"
      ]
     },
     "execution_count": 15,
     "metadata": {},
     "output_type": "execute_result"
    }
   ],
   "source": [
    "df['tipoAviso'].value_counts()"
   ]
  },
  {
   "cell_type": "markdown",
   "metadata": {},
   "source": [
    "## 1.3 - Orgão Julgador"
   ]
  },
  {
   "cell_type": "code",
   "execution_count": 16,
   "metadata": {},
   "outputs": [],
   "source": [
    "abreviacoes_orgaos = {\n",
    "    \"Vara de Execução Fiscal e Tributária\": \"VEFT\",\n",
    "    \"Vara da Fazenda Pública\": \"VFP\",\n",
    "    \"Vara de Família e Sucessões\": \"VFS\",\n",
    "    \"Vara da Infância e Juventude\": \"VIJ\",\n",
    "    \"Vara Cível\": \"VC\",\n",
    "    \"Juizado da Fazenda Pública\": \"JFP\",\n",
    "    \"Juizado Especial Cível, Criminal e da Fazenda Pública\": \"JCCFP\",\n",
    "    \"Turma Recursal\": \"TR\",\n",
    "    \"Gabinete do Desembargador\": \"Gab. Des.\",\n",
    "    \"Gabinete da Juíza\": \"Gab. Juíza\",\n",
    "    \"Gabinete do Juiz\": \"Gab. Juiz\",\n",
    "    \"Gabinete da Vice-Presidência\": \"Gab. VP\",\n",
    "    \"Comarca de\": 'Com.',\n",
    "    \"Juizado Especial da Fazenda Pública\": \"JEFP\"\n",
    "}\n"
   ]
  },
  {
   "cell_type": "code",
   "execution_count": 17,
   "metadata": {},
   "outputs": [],
   "source": [
    "df.replace({'orgaoJulgador': abreviacoes_orgaos}, regex=True, inplace=True)"
   ]
  },
  {
   "cell_type": "markdown",
   "metadata": {},
   "source": [
    "# 2. Removendo colunas e linhas"
   ]
  },
  {
   "cell_type": "code",
   "execution_count": 18,
   "metadata": {},
   "outputs": [],
   "source": [
    "# Removendo colunas\n",
    "df.drop(columns=['idAviso', 'dataAviso'], inplace=True)"
   ]
  },
  {
   "cell_type": "markdown",
   "metadata": {},
   "source": [
    "## 2.1 - Removendo valores nulos"
   ]
  },
  {
   "cell_type": "code",
   "execution_count": 19,
   "metadata": {},
   "outputs": [],
   "source": [
    "# Valores nulos de 'setorDestino'\n",
    "df = df[~df['setorDestino'].isna()]"
   ]
  },
  {
   "cell_type": "code",
   "execution_count": 20,
   "metadata": {},
   "outputs": [],
   "source": [
    "# Trando valores nulos das outras colunas\n",
    "df.fillna({'anexos': 'Sem Anexos',\n",
    "           'documentos': 'Sem Documentos',\n",
    "           'assuntos': 'Sem Assuntos'}, inplace=True)"
   ]
  },
  {
   "cell_type": "markdown",
   "metadata": {},
   "source": [
    "## 2.2 - Removendo as classes PRDA e Cartório\n",
    "\n",
    "* Motivo de remoção do cartório -> É o setor responsável pela distribuição dos processos\n",
    "* Motivo de remoção do PRDA -> Pouquissímos exemplos"
   ]
  },
  {
   "cell_type": "code",
   "execution_count": 29,
   "metadata": {},
   "outputs": [],
   "source": [
    "df = df[~df['setorDestino'].isin(['Cartório', 'PRDA'])]"
   ]
  },
  {
   "cell_type": "markdown",
   "metadata": {},
   "source": [
    "# 3. Salvando o DF"
   ]
  },
  {
   "cell_type": "code",
   "execution_count": 31,
   "metadata": {},
   "outputs": [],
   "source": [
    "nome_df = 'pgm-dataset-processado.csv'\n",
    "raw_processed = 'processed'\n",
    "\n",
    "df.to_csv(f'/home/esdras-daniel/Documentos/Python/PGM-DataAnalysis/data/{raw_processed}/{nome_df}', index=False)"
   ]
  },
  {
   "cell_type": "code",
   "execution_count": 32,
   "metadata": {},
   "outputs": [
    {
     "data": {
      "text/html": [
       "<div>\n",
       "<style scoped>\n",
       "    .dataframe tbody tr th:only-of-type {\n",
       "        vertical-align: middle;\n",
       "    }\n",
       "\n",
       "    .dataframe tbody tr th {\n",
       "        vertical-align: top;\n",
       "    }\n",
       "\n",
       "    .dataframe thead th {\n",
       "        text-align: right;\n",
       "    }\n",
       "</style>\n",
       "<table border=\"1\" class=\"dataframe\">\n",
       "  <thead>\n",
       "    <tr style=\"text-align: right;\">\n",
       "      <th></th>\n",
       "      <th>teorTexto</th>\n",
       "      <th>setorDestino</th>\n",
       "      <th>tipoAviso</th>\n",
       "      <th>orgaoJulgador</th>\n",
       "      <th>assuntos</th>\n",
       "      <th>documentos</th>\n",
       "      <th>anexos</th>\n",
       "      <th>classeProcesso</th>\n",
       "    </tr>\n",
       "  </thead>\n",
       "  <tbody>\n",
       "    <tr>\n",
       "      <th>0</th>\n",
       "      <td>PODER JUDICIÁRIO ESTADO DO RIO GRANDE DO NORTE...</td>\n",
       "      <td>Saúde</td>\n",
       "      <td>Intimação</td>\n",
       "      <td>2ª VIJ da Com. Natal</td>\n",
       "      <td>12485;12494</td>\n",
       "      <td>Decisão;Petição de manifestação;Despacho;Certi...</td>\n",
       "      <td>notaTecnica-228951.pdf - notaTecnica-228951;E-...</td>\n",
       "      <td>1706</td>\n",
       "    </tr>\n",
       "    <tr>\n",
       "      <th>1</th>\n",
       "      <td>PODER JUDICIÁRIO DO ESTADO DO RIO GRANDE DO NO...</td>\n",
       "      <td>Administrativa</td>\n",
       "      <td>Intimação</td>\n",
       "      <td>3º JFP da Com. Natal</td>\n",
       "      <td>10715</td>\n",
       "      <td>Notificação;Petição;Despacho;Diligência;Notifi...</td>\n",
       "      <td>FICHA FINANCEIRA;SEMAD - Joelma;08464942120228...</td>\n",
       "      <td>14695</td>\n",
       "    </tr>\n",
       "    <tr>\n",
       "      <th>3</th>\n",
       "      <td>PODER JUDICIÁRIO DO ESTADO DO RIO GRANDE DO NO...</td>\n",
       "      <td>Fiscal</td>\n",
       "      <td>Intimação</td>\n",
       "      <td>5ª VEFT de Natal</td>\n",
       "      <td>9518</td>\n",
       "      <td>Despacho;Petição;Despacho;Petição;Despacho;Pet...</td>\n",
       "      <td>docs habilitação;Sisbajud Positivo;CÁLCULOS;Ex...</td>\n",
       "      <td>156</td>\n",
       "    </tr>\n",
       "    <tr>\n",
       "      <th>4</th>\n",
       "      <td>PODER JUDICIÁRIO DO ESTADO DO RIO GRANDE DO NO...</td>\n",
       "      <td>Fiscal</td>\n",
       "      <td>Intimação</td>\n",
       "      <td>1ª VEFT de Natal</td>\n",
       "      <td>10534;5952</td>\n",
       "      <td>Despacho;Certidão;Certidão;Petição;Decisão;Pet...</td>\n",
       "      <td>ComprovanteValidacao - 2022-DP-PREC-47082;cda;...</td>\n",
       "      <td>12078</td>\n",
       "    </tr>\n",
       "    <tr>\n",
       "      <th>5</th>\n",
       "      <td>PODER JUDICIÁRIO DO ESTADO DO RIO GRANDE DO NO...</td>\n",
       "      <td>Administrativa</td>\n",
       "      <td>Intimação</td>\n",
       "      <td>5ª VFP da Com. Natal</td>\n",
       "      <td>10311</td>\n",
       "      <td>Petição;Decisão;Petição;Sentença;Petição;Decis...</td>\n",
       "      <td>calculos (1);LEI;justificativa;FICHA FINANCEIR...</td>\n",
       "      <td>12078</td>\n",
       "    </tr>\n",
       "    <tr>\n",
       "      <th>...</th>\n",
       "      <td>...</td>\n",
       "      <td>...</td>\n",
       "      <td>...</td>\n",
       "      <td>...</td>\n",
       "      <td>...</td>\n",
       "      <td>...</td>\n",
       "      <td>...</td>\n",
       "      <td>...</td>\n",
       "    </tr>\n",
       "    <tr>\n",
       "      <th>15935</th>\n",
       "      <td>Poder Judiciário do Rio Grande do Norte3ª Turm...</td>\n",
       "      <td>Fiscal</td>\n",
       "      <td>Intimação de Pauta</td>\n",
       "      <td>6º JFP da Com. Natal</td>\n",
       "      <td>6062</td>\n",
       "      <td>Contrarrazões;Ato Ordinatório;Recurso Inominad...</td>\n",
       "      <td>Contrarrazões;FICHAS FINANCEIRAS DE 2007 A 201...</td>\n",
       "      <td>14695</td>\n",
       "    </tr>\n",
       "    <tr>\n",
       "      <th>15937</th>\n",
       "      <td>Poder Judiciário do Rio Grande do Norte3ª Turm...</td>\n",
       "      <td>Judicial</td>\n",
       "      <td>Intimação de Pauta</td>\n",
       "      <td>5º JFP da Com. Natal</td>\n",
       "      <td>10433</td>\n",
       "      <td>Certidão de decurso de prazo;Ato Ordinatório;R...</td>\n",
       "      <td>INICIAL ANO 2009 4ª VF INUNDAÇÃO ANTIGA NO JOS...</td>\n",
       "      <td>14695</td>\n",
       "    </tr>\n",
       "    <tr>\n",
       "      <th>15938</th>\n",
       "      <td>Poder Judiciário do Rio Grande do Norte3ª Turm...</td>\n",
       "      <td>Judicial</td>\n",
       "      <td>Intimação de Pauta</td>\n",
       "      <td>5º JFP da Com. Natal</td>\n",
       "      <td>9992</td>\n",
       "      <td>Certidão de decurso de prazo;Ato Ordinatório;R...</td>\n",
       "      <td>DOCUMENTO 01 - DECISAO CASO SIMILAR - OUTRO MA...</td>\n",
       "      <td>14695</td>\n",
       "    </tr>\n",
       "    <tr>\n",
       "      <th>15939</th>\n",
       "      <td>Poder Judiciário do Rio Grande do Norte3ª Turm...</td>\n",
       "      <td>Judicial</td>\n",
       "      <td>Intimação de Pauta</td>\n",
       "      <td>4º JFP da Com. Natal</td>\n",
       "      <td>9992</td>\n",
       "      <td>Contrarrazões;Recurso inominado - Município de...</td>\n",
       "      <td>OFÍCIO SEINFRA;1 - Ofício SEINFRA - 27.28 NOV ...</td>\n",
       "      <td>14695</td>\n",
       "    </tr>\n",
       "    <tr>\n",
       "      <th>15941</th>\n",
       "      <td>PODER JUDICIÁRIO TRIBUNAL DE JUSTIÇA DO ESTADO...</td>\n",
       "      <td>Meio Ambiente</td>\n",
       "      <td>Intimação</td>\n",
       "      <td>5ª VFP da Com. Natal</td>\n",
       "      <td>10671;11843</td>\n",
       "      <td>Certidão;Contrarrazões;Ato Ordinatório;Petição...</td>\n",
       "      <td>7752;CRONOGRAMA ACESSIBILIDADE - SMS;procedime...</td>\n",
       "      <td>65</td>\n",
       "    </tr>\n",
       "  </tbody>\n",
       "</table>\n",
       "<p>15283 rows × 8 columns</p>\n",
       "</div>"
      ],
      "text/plain": [
       "                                               teorTexto    setorDestino  \\\n",
       "0      PODER JUDICIÁRIO ESTADO DO RIO GRANDE DO NORTE...           Saúde   \n",
       "1      PODER JUDICIÁRIO DO ESTADO DO RIO GRANDE DO NO...  Administrativa   \n",
       "3      PODER JUDICIÁRIO DO ESTADO DO RIO GRANDE DO NO...          Fiscal   \n",
       "4      PODER JUDICIÁRIO DO ESTADO DO RIO GRANDE DO NO...          Fiscal   \n",
       "5      PODER JUDICIÁRIO DO ESTADO DO RIO GRANDE DO NO...  Administrativa   \n",
       "...                                                  ...             ...   \n",
       "15935  Poder Judiciário do Rio Grande do Norte3ª Turm...          Fiscal   \n",
       "15937  Poder Judiciário do Rio Grande do Norte3ª Turm...        Judicial   \n",
       "15938  Poder Judiciário do Rio Grande do Norte3ª Turm...        Judicial   \n",
       "15939  Poder Judiciário do Rio Grande do Norte3ª Turm...        Judicial   \n",
       "15941  PODER JUDICIÁRIO TRIBUNAL DE JUSTIÇA DO ESTADO...   Meio Ambiente   \n",
       "\n",
       "                tipoAviso         orgaoJulgador     assuntos  \\\n",
       "0               Intimação  2ª VIJ da Com. Natal  12485;12494   \n",
       "1               Intimação  3º JFP da Com. Natal        10715   \n",
       "3               Intimação      5ª VEFT de Natal         9518   \n",
       "4               Intimação      1ª VEFT de Natal   10534;5952   \n",
       "5               Intimação  5ª VFP da Com. Natal        10311   \n",
       "...                   ...                   ...          ...   \n",
       "15935  Intimação de Pauta  6º JFP da Com. Natal         6062   \n",
       "15937  Intimação de Pauta  5º JFP da Com. Natal        10433   \n",
       "15938  Intimação de Pauta  5º JFP da Com. Natal         9992   \n",
       "15939  Intimação de Pauta  4º JFP da Com. Natal         9992   \n",
       "15941           Intimação  5ª VFP da Com. Natal  10671;11843   \n",
       "\n",
       "                                              documentos  \\\n",
       "0      Decisão;Petição de manifestação;Despacho;Certi...   \n",
       "1      Notificação;Petição;Despacho;Diligência;Notifi...   \n",
       "3      Despacho;Petição;Despacho;Petição;Despacho;Pet...   \n",
       "4      Despacho;Certidão;Certidão;Petição;Decisão;Pet...   \n",
       "5      Petição;Decisão;Petição;Sentença;Petição;Decis...   \n",
       "...                                                  ...   \n",
       "15935  Contrarrazões;Ato Ordinatório;Recurso Inominad...   \n",
       "15937  Certidão de decurso de prazo;Ato Ordinatório;R...   \n",
       "15938  Certidão de decurso de prazo;Ato Ordinatório;R...   \n",
       "15939  Contrarrazões;Recurso inominado - Município de...   \n",
       "15941  Certidão;Contrarrazões;Ato Ordinatório;Petição...   \n",
       "\n",
       "                                                  anexos  classeProcesso  \n",
       "0      notaTecnica-228951.pdf - notaTecnica-228951;E-...            1706  \n",
       "1      FICHA FINANCEIRA;SEMAD - Joelma;08464942120228...           14695  \n",
       "3      docs habilitação;Sisbajud Positivo;CÁLCULOS;Ex...             156  \n",
       "4      ComprovanteValidacao - 2022-DP-PREC-47082;cda;...           12078  \n",
       "5      calculos (1);LEI;justificativa;FICHA FINANCEIR...           12078  \n",
       "...                                                  ...             ...  \n",
       "15935  Contrarrazões;FICHAS FINANCEIRAS DE 2007 A 201...           14695  \n",
       "15937  INICIAL ANO 2009 4ª VF INUNDAÇÃO ANTIGA NO JOS...           14695  \n",
       "15938  DOCUMENTO 01 - DECISAO CASO SIMILAR - OUTRO MA...           14695  \n",
       "15939  OFÍCIO SEINFRA;1 - Ofício SEINFRA - 27.28 NOV ...           14695  \n",
       "15941  7752;CRONOGRAMA ACESSIBILIDADE - SMS;procedime...              65  \n",
       "\n",
       "[15283 rows x 8 columns]"
      ]
     },
     "execution_count": 32,
     "metadata": {},
     "output_type": "execute_result"
    }
   ],
   "source": [
    "df"
   ]
  }
 ],
 "metadata": {
  "kernelspec": {
   "display_name": ".venv",
   "language": "python",
   "name": "python3"
  },
  "language_info": {
   "codemirror_mode": {
    "name": "ipython",
    "version": 3
   },
   "file_extension": ".py",
   "mimetype": "text/x-python",
   "name": "python",
   "nbconvert_exporter": "python",
   "pygments_lexer": "ipython3",
   "version": "3.12.3"
  }
 },
 "nbformat": 4,
 "nbformat_minor": 2
}
