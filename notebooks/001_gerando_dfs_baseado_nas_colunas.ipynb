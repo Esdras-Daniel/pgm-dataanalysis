{
 "cells": [
  {
   "cell_type": "markdown",
   "metadata": {},
   "source": [
    "Esse notebook tem como objetivo gerar varios DataFrames baseando-se nas colunas do dataframe 'pgm-dataset-processado.csv'\n",
    "\n",
    "As colunas de onde virão os Dataframes:\n",
    "* Assuntos (Assuntos do CNJ)\n",
    "* Orgão Julgador\n",
    "* Documentos (Contagem)\n",
    "* Classe Processo"
   ]
  },
  {
   "cell_type": "markdown",
   "metadata": {},
   "source": [
    "# 0. Imports"
   ]
  },
  {
   "cell_type": "code",
   "execution_count": 1,
   "metadata": {},
   "outputs": [],
   "source": [
    "import os\n",
    "import pandas as pd\n",
    "from typing import List\n",
    "\n",
    "from sklearn.feature_extraction.text import CountVectorizer"
   ]
  },
  {
   "cell_type": "markdown",
   "metadata": {},
   "source": [
    "# 0.1 - Funções"
   ]
  },
  {
   "cell_type": "code",
   "execution_count": 26,
   "metadata": {},
   "outputs": [],
   "source": [
    "def gera_df(list_: List[List[str]], most_common=None):\n",
    "    '''\n",
    "    Converte uma lista de listas em um DataFrame.\n",
    "\n",
    "    Cada sublista da lista de entrada é transformada em uma linha do DataFrame,\n",
    "    onde cada coluna representa um valor único presente em alguma sublista.\n",
    "    Se o valor estiver presente na sublista, a célula recebe 1; caso contrário, 0.\n",
    "    '''\n",
    "    if most_common:\n",
    "        unique_values = most_common\n",
    "    else:    \n",
    "        unique_values = sorted(set(item for sublist in list_ for item in sublist))\n",
    "\n",
    "    df = pd.DataFrame([{val: sublist.count(val) if val in sublist else 0 for val in unique_values} for sublist in list_])\n",
    "\n",
    "    return df\n",
    "\n",
    "def balance_df(df: pd.DataFrame, balance_on:str = 'setorDestino', n_samples:int = 500):\n",
    "    unique_classes = df[balance_on].unique()\n",
    "    \n",
    "    dfs_list = []\n",
    "\n",
    "    for classe in unique_classes:\n",
    "        if len(df[df[balance_on] == classe]) >= n_samples:\n",
    "            dfs_list.append(df[df[balance_on] == classe].sample(n=n_samples, replace=False))\n",
    "        else:\n",
    "            dfs_list.append(df[df[balance_on] == classe].sample(n=n_samples, replace=True))\n",
    "    \n",
    "    return pd.concat(dfs_list)"
   ]
  },
  {
   "cell_type": "markdown",
   "metadata": {},
   "source": [
    "# 1. Data Loading"
   ]
  },
  {
   "cell_type": "code",
   "execution_count": 3,
   "metadata": {},
   "outputs": [],
   "source": [
    "df = pd.read_csv('/home/esdras-daniel/Documentos/Python/PGM-DataAnalysis/data/processed/pgm-dataset-processado.csv')\n",
    "\n",
    "path_to_be_saved = '/home/esdras-daniel/Documentos/Python/PGM-DataAnalysis/data/processed'"
   ]
  },
  {
   "cell_type": "code",
   "execution_count": 36,
   "metadata": {},
   "outputs": [
    {
     "data": {
      "text/plain": [
       "setorDestino\n",
       "Fiscal            6686\n",
       "Administrativa    5403\n",
       "Contabilidade     1338\n",
       "Judicial          1137\n",
       "Saúde              443\n",
       "Meio Ambiente      155\n",
       "Patrimonial        121\n",
       "Name: count, dtype: int64"
      ]
     },
     "execution_count": 36,
     "metadata": {},
     "output_type": "execute_result"
    }
   ],
   "source": [
    "df['setorDestino'].value_counts()"
   ]
  },
  {
   "cell_type": "markdown",
   "metadata": {},
   "source": [
    "# 2. Criação de Dataframes"
   ]
  },
  {
   "cell_type": "markdown",
   "metadata": {},
   "source": [
    "## 2.1 - Assuntos"
   ]
  },
  {
   "cell_type": "code",
   "execution_count": 4,
   "metadata": {},
   "outputs": [],
   "source": [
    "assuntos = df['assuntos'].apply(lambda x: x.split(';'))"
   ]
  },
  {
   "cell_type": "code",
   "execution_count": 5,
   "metadata": {},
   "outputs": [],
   "source": [
    "df_assuntos = gera_df(assuntos)"
   ]
  },
  {
   "cell_type": "code",
   "execution_count": 6,
   "metadata": {},
   "outputs": [],
   "source": [
    "# Adiciona o setorDestino\n",
    "df_assuntos['setorDestino'] = df['setorDestino']"
   ]
  },
  {
   "cell_type": "code",
   "execution_count": 7,
   "metadata": {},
   "outputs": [],
   "source": [
    "# Salva o DataFrame\n",
    "df_assuntos.to_csv(os.path.join(path_to_be_saved, 'df_assuntos.csv'), index=False)"
   ]
  },
  {
   "cell_type": "markdown",
   "metadata": {},
   "source": [
    "## 2.2 - Orgão Julgador"
   ]
  },
  {
   "cell_type": "code",
   "execution_count": 8,
   "metadata": {},
   "outputs": [],
   "source": [
    "orgaos_julgadores = df['orgaoJulgador'].apply(lambda x: x.split(';'))"
   ]
  },
  {
   "cell_type": "code",
   "execution_count": 9,
   "metadata": {},
   "outputs": [],
   "source": [
    "df_orgaosJulgadores = gera_df(orgaos_julgadores)"
   ]
  },
  {
   "cell_type": "code",
   "execution_count": 10,
   "metadata": {},
   "outputs": [],
   "source": [
    "# Adiciona o setorDestino\n",
    "df_orgaosJulgadores['setorDestino'] = df['setorDestino']"
   ]
  },
  {
   "cell_type": "code",
   "execution_count": 11,
   "metadata": {},
   "outputs": [],
   "source": [
    "# Salva o DataFrame\n",
    "df_orgaosJulgadores.to_csv(os.path.join(path_to_be_saved, 'df_orgaosJulgadores.csv'), index=False)"
   ]
  },
  {
   "cell_type": "markdown",
   "metadata": {},
   "source": [
    "## 2.3 - Documentos"
   ]
  },
  {
   "cell_type": "code",
   "execution_count": 12,
   "metadata": {},
   "outputs": [],
   "source": [
    "documentos = df['documentos'].apply(lambda x: x.split(';'))"
   ]
  },
  {
   "cell_type": "code",
   "execution_count": 13,
   "metadata": {},
   "outputs": [
    {
     "name": "stderr",
     "output_type": "stream",
     "text": [
      "/home/esdras-daniel/Documentos/Python/PGM-DataAnalysis/.venv/lib/python3.12/site-packages/sklearn/feature_extraction/text.py:517: UserWarning: The parameter 'token_pattern' will not be used since 'tokenizer' is not None'\n",
      "  warnings.warn(\n"
     ]
    }
   ],
   "source": [
    "# Recuperando documentos mais frequentes\n",
    "count_vectorizer = CountVectorizer(tokenizer=lambda x: x.split(';'), max_features=100)\n",
    "X = count_vectorizer.fit_transform(df['documentos']).todense()"
   ]
  },
  {
   "cell_type": "code",
   "execution_count": 14,
   "metadata": {},
   "outputs": [],
   "source": [
    "df_documentos = pd.DataFrame(columns=count_vectorizer.get_feature_names_out(),\n",
    "                             data=X)"
   ]
  },
  {
   "cell_type": "code",
   "execution_count": 15,
   "metadata": {},
   "outputs": [],
   "source": [
    "df_documentos['setorDestino'] = df['setorDestino']"
   ]
  },
  {
   "cell_type": "code",
   "execution_count": 16,
   "metadata": {},
   "outputs": [],
   "source": [
    "# Salva o DataFrame\n",
    "df_documentos.to_csv(os.path.join(path_to_be_saved, 'df_documentos.csv'), index=False)"
   ]
  },
  {
   "cell_type": "markdown",
   "metadata": {},
   "source": [
    "## 2.4 - Classe Processo"
   ]
  },
  {
   "cell_type": "code",
   "execution_count": 17,
   "metadata": {},
   "outputs": [],
   "source": [
    "classes_processo = df['classeProcesso'].apply(lambda x: str(x).split(';'))"
   ]
  },
  {
   "cell_type": "code",
   "execution_count": 18,
   "metadata": {},
   "outputs": [],
   "source": [
    "df_classes_processo = gera_df(classes_processo)"
   ]
  },
  {
   "cell_type": "code",
   "execution_count": 19,
   "metadata": {},
   "outputs": [],
   "source": [
    "# Adiciona o setorDestino\n",
    "df_classes_processo['setorDestino'] = df['setorDestino']"
   ]
  },
  {
   "cell_type": "code",
   "execution_count": 20,
   "metadata": {},
   "outputs": [],
   "source": [
    "# Salva o DataFrame\n",
    "df_classes_processo.to_csv(os.path.join(path_to_be_saved, 'df_classe_processo.csv'), index=False)"
   ]
  },
  {
   "cell_type": "markdown",
   "metadata": {},
   "source": [
    "## 2.5 - DataFrame Balanceado"
   ]
  },
  {
   "cell_type": "code",
   "execution_count": 34,
   "metadata": {},
   "outputs": [
    {
     "name": "stdout",
     "output_type": "stream",
     "text": [
      "(5250, 8)\n",
      "setorDestino\n",
      "Saúde             750\n",
      "Administrativa    750\n",
      "Fiscal            750\n",
      "Contabilidade     750\n",
      "Judicial          750\n",
      "Patrimonial       750\n",
      "Meio Ambiente     750\n",
      "Name: count, dtype: int64\n"
     ]
    }
   ],
   "source": [
    "df_balanceado = balance_df(df, balance_on='setorDestino', n_samples=750)\n",
    "\n",
    "print(df_balanceado.shape)\n",
    "print(df_balanceado['setorDestino'].value_counts())"
   ]
  },
  {
   "cell_type": "code",
   "execution_count": 35,
   "metadata": {},
   "outputs": [],
   "source": [
    "# Salva o DataFrame\n",
    "df_balanceado.to_csv(os.path.join(path_to_be_saved, 'pgm-dataset-processado-balanceado.csv'), index=False)"
   ]
  },
  {
   "cell_type": "code",
   "execution_count": null,
   "metadata": {},
   "outputs": [],
   "source": []
  }
 ],
 "metadata": {
  "kernelspec": {
   "display_name": ".venv",
   "language": "python",
   "name": "python3"
  },
  "language_info": {
   "codemirror_mode": {
    "name": "ipython",
    "version": 3
   },
   "file_extension": ".py",
   "mimetype": "text/x-python",
   "name": "python",
   "nbconvert_exporter": "python",
   "pygments_lexer": "ipython3",
   "version": "3.12.3"
  }
 },
 "nbformat": 4,
 "nbformat_minor": 2
}
