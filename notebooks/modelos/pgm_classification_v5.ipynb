{
 "cells": [
  {
   "cell_type": "markdown",
   "metadata": {},
   "source": [
    "# 0. Imports"
   ]
  },
  {
   "cell_type": "code",
   "execution_count": 1,
   "metadata": {},
   "outputs": [],
   "source": [
    "import pandas as pd\n",
    "\n",
    "import utils"
   ]
  },
  {
   "cell_type": "markdown",
   "metadata": {},
   "source": [
    "# 1. Data Loading"
   ]
  },
  {
   "cell_type": "code",
   "execution_count": 2,
   "metadata": {},
   "outputs": [
    {
     "name": "stdout",
     "output_type": "stream",
     "text": [
      "Shape: (6400, 11)\n"
     ]
    },
    {
     "data": {
      "text/html": [
       "<div>\n",
       "<style scoped>\n",
       "    .dataframe tbody tr th:only-of-type {\n",
       "        vertical-align: middle;\n",
       "    }\n",
       "\n",
       "    .dataframe tbody tr th {\n",
       "        vertical-align: top;\n",
       "    }\n",
       "\n",
       "    .dataframe thead th {\n",
       "        text-align: right;\n",
       "    }\n",
       "</style>\n",
       "<table border=\"1\" class=\"dataframe\">\n",
       "  <thead>\n",
       "    <tr style=\"text-align: right;\">\n",
       "      <th></th>\n",
       "      <th>teorTexto</th>\n",
       "      <th>idAviso</th>\n",
       "      <th>setorDestino</th>\n",
       "      <th>dataAviso</th>\n",
       "      <th>tipoAviso</th>\n",
       "      <th>orgaoJulgador</th>\n",
       "      <th>assuntos</th>\n",
       "      <th>documentos</th>\n",
       "      <th>anexos</th>\n",
       "      <th>classeProcesso</th>\n",
       "      <th>novoSetorDestino</th>\n",
       "    </tr>\n",
       "  </thead>\n",
       "  <tbody>\n",
       "    <tr>\n",
       "      <th>0</th>\n",
       "      <td>PODER JUDICIÁRIO DO ESTADO DO RIO GRANDE DO NO...</td>\n",
       "      <td>18904545.0</td>\n",
       "      <td>APOIO FISCAL</td>\n",
       "      <td>2024-07-29 23:59:59</td>\n",
       "      <td>IntimaÆo</td>\n",
       "      <td>5ª Vara de Execução Fiscal e Tributária de Natal</td>\n",
       "      <td>5952</td>\n",
       "      <td>Despacho;Petição;Intimação;Diligência;Penhora;...</td>\n",
       "      <td>0243943-10.2007.8.20.0001 Ext DA;Endereço da e...</td>\n",
       "      <td>1116</td>\n",
       "      <td>APOIO FISCAL</td>\n",
       "    </tr>\n",
       "    <tr>\n",
       "      <th>1</th>\n",
       "      <td>PODER JUDICIÁRIO DO ESTADO DO RIO GRANDE DO NO...</td>\n",
       "      <td>19133830.0</td>\n",
       "      <td>APOIO FISCAL</td>\n",
       "      <td>2024-08-14 23:59:59</td>\n",
       "      <td>IntimaÆo</td>\n",
       "      <td>4ª Vara de Execução Fiscal e Tributária de Natal</td>\n",
       "      <td>10536;5952</td>\n",
       "      <td>Certidão Trânsito em Julgado;Sentença;Petição ...</td>\n",
       "      <td>0865696-23.2018.8.20.5001 Ext DA;Rcda - extrat...</td>\n",
       "      <td>1116</td>\n",
       "      <td>APOIO FISCAL</td>\n",
       "    </tr>\n",
       "    <tr>\n",
       "      <th>2</th>\n",
       "      <td>PODER JUDICIÁRIO DO ESTADO DO RIO GRANDE DO NO...</td>\n",
       "      <td>19035508.0</td>\n",
       "      <td>APOIO FISCAL</td>\n",
       "      <td>2024-07-17 03:22:29</td>\n",
       "      <td>IntimaÆo</td>\n",
       "      <td>4ª Vara de Execução Fiscal e Tributária de Natal</td>\n",
       "      <td>5951</td>\n",
       "      <td>Decisão;Diligência;Mandado;Despacho;Certidão;D...</td>\n",
       "      <td>0508032-92.2006;0508032-92.2006 - EXT;0508032-...</td>\n",
       "      <td>1116</td>\n",
       "      <td>APOIO FISCAL</td>\n",
       "    </tr>\n",
       "  </tbody>\n",
       "</table>\n",
       "</div>"
      ],
      "text/plain": [
       "                                           teorTexto     idAviso  \\\n",
       "0  PODER JUDICIÁRIO DO ESTADO DO RIO GRANDE DO NO...  18904545.0   \n",
       "1  PODER JUDICIÁRIO DO ESTADO DO RIO GRANDE DO NO...  19133830.0   \n",
       "2  PODER JUDICIÁRIO DO ESTADO DO RIO GRANDE DO NO...  19035508.0   \n",
       "\n",
       "   setorDestino            dataAviso  tipoAviso  \\\n",
       "0  APOIO FISCAL  2024-07-29 23:59:59  IntimaÆo   \n",
       "1  APOIO FISCAL  2024-08-14 23:59:59  IntimaÆo   \n",
       "2  APOIO FISCAL  2024-07-17 03:22:29  IntimaÆo   \n",
       "\n",
       "                                      orgaoJulgador    assuntos  \\\n",
       "0  5ª Vara de Execução Fiscal e Tributária de Natal        5952   \n",
       "1  4ª Vara de Execução Fiscal e Tributária de Natal  10536;5952   \n",
       "2  4ª Vara de Execução Fiscal e Tributária de Natal        5951   \n",
       "\n",
       "                                          documentos  \\\n",
       "0  Despacho;Petição;Intimação;Diligência;Penhora;...   \n",
       "1  Certidão Trânsito em Julgado;Sentença;Petição ...   \n",
       "2  Decisão;Diligência;Mandado;Despacho;Certidão;D...   \n",
       "\n",
       "                                              anexos  classeProcesso  \\\n",
       "0  0243943-10.2007.8.20.0001 Ext DA;Endereço da e...            1116   \n",
       "1  0865696-23.2018.8.20.5001 Ext DA;Rcda - extrat...            1116   \n",
       "2  0508032-92.2006;0508032-92.2006 - EXT;0508032-...            1116   \n",
       "\n",
       "  novoSetorDestino  \n",
       "0     APOIO FISCAL  \n",
       "1     APOIO FISCAL  \n",
       "2     APOIO FISCAL  "
      ]
     },
     "execution_count": 2,
     "metadata": {},
     "output_type": "execute_result"
    }
   ],
   "source": [
    "path = './data/pgm-dataset-v5.csv'\n",
    "\n",
    "df = pd.read_csv(path, sep=',')\n",
    "print(f'Shape: {df.shape}')\n",
    "df.head(3)"
   ]
  },
  {
   "cell_type": "code",
   "execution_count": 3,
   "metadata": {},
   "outputs": [
    {
     "data": {
      "text/plain": [
       "novoSetorDestino\n",
       "APOIO FISCAL                                1280\n",
       "DEPARTAMENTO DE CÁLCULOS E CONTABILIDADE    1280\n",
       "Outras                                      1280\n",
       "Procuradoria Administrativa                 1280\n",
       "Procuradoria Fiscal                         1280\n",
       "Name: count, dtype: int64"
      ]
     },
     "execution_count": 3,
     "metadata": {},
     "output_type": "execute_result"
    }
   ],
   "source": [
    "df['novoSetorDestino'].value_counts()"
   ]
  },
  {
   "cell_type": "code",
   "execution_count": 6,
   "metadata": {},
   "outputs": [
    {
     "data": {
      "text/plain": [
       "classeProcesso\n",
       "12078    2055\n",
       "1116     1884\n",
       "14695    1127\n",
       "7         349\n",
       "156       254\n",
       "1118      171\n",
       "1706      160\n",
       "120        96\n",
       "436        79\n",
       "172        40\n",
       "198        28\n",
       "22         15\n",
       "37         15\n",
       "460        13\n",
       "65         13\n",
       "111        12\n",
       "83         12\n",
       "202         8\n",
       "157         8\n",
       "12154       7\n",
       "12135       7\n",
       "1114        6\n",
       "1690        5\n",
       "152         4\n",
       "40          4\n",
       "64          4\n",
       "108         3\n",
       "12134       3\n",
       "66          2\n",
       "31          2\n",
       "210         2\n",
       "12079       2\n",
       "47          2\n",
       "1392        1\n",
       "1396        1\n",
       "63          1\n",
       "151         1\n",
       "231         1\n",
       "1728        1\n",
       "15215       1\n",
       "39          1\n",
       "Name: count, dtype: int64"
      ]
     },
     "execution_count": 6,
     "metadata": {},
     "output_type": "execute_result"
    }
   ],
   "source": [
    "df['classeProcesso'].value_counts()"
   ]
  },
  {
   "cell_type": "markdown",
   "metadata": {},
   "source": []
  },
  {
   "cell_type": "markdown",
   "metadata": {},
   "source": [
    "# 2. Gerando df_assuntos"
   ]
  },
  {
   "cell_type": "code",
   "execution_count": 4,
   "metadata": {},
   "outputs": [
    {
     "name": "stdout",
     "output_type": "stream",
     "text": [
      "Número de assuntos/documentos: 349\n"
     ]
    }
   ],
   "source": [
    "df_assuntos = utils.separa_assuntos_documentos(df['assuntos'])"
   ]
  },
  {
   "cell_type": "code",
   "execution_count": 5,
   "metadata": {},
   "outputs": [
    {
     "data": {
      "text/plain": [
       "(6400, 349)"
      ]
     },
     "execution_count": 5,
     "metadata": {},
     "output_type": "execute_result"
    }
   ],
   "source": [
    "df_assuntos.shape"
   ]
  },
  {
   "cell_type": "code",
   "execution_count": null,
   "metadata": {},
   "outputs": [],
   "source": []
  }
 ],
 "metadata": {
  "kernelspec": {
   "display_name": ".venv",
   "language": "python",
   "name": "python3"
  },
  "language_info": {
   "codemirror_mode": {
    "name": "ipython",
    "version": 3
   },
   "file_extension": ".py",
   "mimetype": "text/x-python",
   "name": "python",
   "nbconvert_exporter": "python",
   "pygments_lexer": "ipython3",
   "version": "3.12.3"
  }
 },
 "nbformat": 4,
 "nbformat_minor": 2
}
