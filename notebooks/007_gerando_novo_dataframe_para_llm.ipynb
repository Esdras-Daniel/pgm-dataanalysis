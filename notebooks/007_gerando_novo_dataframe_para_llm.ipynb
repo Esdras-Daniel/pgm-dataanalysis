{
 "cells": [
  {
   "cell_type": "markdown",
   "metadata": {},
   "source": [
    "# 0. Imports"
   ]
  },
  {
   "cell_type": "code",
   "execution_count": 54,
   "metadata": {},
   "outputs": [],
   "source": [
    "import pandas as pd\n",
    "import matplotlib.pyplot as plt"
   ]
  },
  {
   "cell_type": "markdown",
   "metadata": {},
   "source": [
    "# 1. Data Loading"
   ]
  },
  {
   "cell_type": "code",
   "execution_count": 55,
   "metadata": {},
   "outputs": [],
   "source": [
    "path = '../data/processed/pgm-dataset-processado.csv'\n",
    "\n",
    "df = pd.read_csv(path)"
   ]
  },
  {
   "cell_type": "markdown",
   "metadata": {},
   "source": [
    "## 1.1 - Balanceamento das classes\n",
    "\n",
    "A fim de evitar o alto consumo de tokens pela LLM vamos reduzir o número de textos das classes com mais de 100 exemplos."
   ]
  },
  {
   "cell_type": "code",
   "execution_count": 56,
   "metadata": {},
   "outputs": [
    {
     "data": {
      "text/plain": [
       "6686"
      ]
     },
     "execution_count": 56,
     "metadata": {},
     "output_type": "execute_result"
    }
   ],
   "source": [
    "len(df[df['setorDestino'] == 'Fiscal'])"
   ]
  },
  {
   "cell_type": "code",
   "execution_count": 57,
   "metadata": {},
   "outputs": [
    {
     "name": "stdout",
     "output_type": "stream",
     "text": [
      "Shape do novo DataFrame: (700, 8)\n",
      "Distribuição de classes do novo DataFrame:\n",
      "\n",
      "setorDestino\n",
      "Saúde             100\n",
      "Administrativa    100\n",
      "Fiscal            100\n",
      "Contabilidade     100\n",
      "Judicial          100\n",
      "Patrimonial       100\n",
      "Meio Ambiente     100\n",
      "Name: count, dtype: int64\n"
     ]
    }
   ],
   "source": [
    "setores_destino = df['setorDestino'].unique()\n",
    "\n",
    "N = 100\n",
    "sampled_dfs_by_setor = []\n",
    "\n",
    "for setor in setores_destino:\n",
    "    # Recupera todos os textos do setor\n",
    "    df_setor = df[df['setorDestino'] == setor]\n",
    "\n",
    "    # Verifica se o setor tem mais de 100 textos:\n",
    "    if len(df_setor) > N:\n",
    "        sampled_setor = df_setor.sample(n = N)\n",
    "    else:\n",
    "        sampled_setor = df_setor.sample(frac = 1)\n",
    "    \n",
    "    sampled_dfs_by_setor.append(sampled_setor)\n",
    "\n",
    "sampled_df = pd.concat(sampled_dfs_by_setor)\n",
    "print(f'Shape do novo DataFrame: {sampled_df.shape}')\n",
    "print(f'Distribuição de classes do novo DataFrame:\\n\\n{sampled_df['setorDestino'].value_counts()}')"
   ]
  },
  {
   "cell_type": "markdown",
   "metadata": {},
   "source": [
    "## 1.2 - Removendo stopwords de 'teorTexto'"
   ]
  },
  {
   "cell_type": "code",
   "execution_count": 58,
   "metadata": {},
   "outputs": [],
   "source": [
    "from nltk.corpus import stopwords\n",
    "from nltk.tokenize import word_tokenize\n",
    "\n",
    "def preprocess_text(text):\n",
    "    if isinstance(text, str):\n",
    "        text = text.lower()\n",
    "        words = word_tokenize(text, language='portuguese')\n",
    "        stop_words = set(stopwords.words('portuguese'))\n",
    "        filtered_words = [word for word in words if word.isalnum() and word not in stop_words]\n",
    "\n",
    "        return ' '.join(filtered_words)\n",
    "    return ''\n",
    "\n",
    "sampled_df['teorTexto_processado'] = sampled_df['teorTexto'].apply(preprocess_text)"
   ]
  },
  {
   "cell_type": "markdown",
   "metadata": {},
   "source": [
    "## 1.3 - Removendo colunas desnecessárias"
   ]
  },
  {
   "cell_type": "code",
   "execution_count": 59,
   "metadata": {},
   "outputs": [
    {
     "data": {
      "text/html": [
       "<div>\n",
       "<style scoped>\n",
       "    .dataframe tbody tr th:only-of-type {\n",
       "        vertical-align: middle;\n",
       "    }\n",
       "\n",
       "    .dataframe tbody tr th {\n",
       "        vertical-align: top;\n",
       "    }\n",
       "\n",
       "    .dataframe thead th {\n",
       "        text-align: right;\n",
       "    }\n",
       "</style>\n",
       "<table border=\"1\" class=\"dataframe\">\n",
       "  <thead>\n",
       "    <tr style=\"text-align: right;\">\n",
       "      <th></th>\n",
       "      <th>teorTexto</th>\n",
       "      <th>setorDestino</th>\n",
       "      <th>tipoAviso</th>\n",
       "      <th>orgaoJulgador</th>\n",
       "      <th>assuntos</th>\n",
       "      <th>documentos</th>\n",
       "      <th>anexos</th>\n",
       "      <th>classeProcesso</th>\n",
       "      <th>teorTexto_processado</th>\n",
       "    </tr>\n",
       "  </thead>\n",
       "  <tbody>\n",
       "    <tr>\n",
       "      <th>12529</th>\n",
       "      <td>PODER JUDICIÁRIOTRIBUNAL DE JUSTIÇA DO ESTADO ...</td>\n",
       "      <td>Saúde</td>\n",
       "      <td>Intimação</td>\n",
       "      <td>4ª VFP da Com. Natal</td>\n",
       "      <td>12511;12491</td>\n",
       "      <td>Certidão de decurso de prazo;Contrarrazões;Ato...</td>\n",
       "      <td>ADITAMENTO - PETIÇÃO INICIAL - ELIANE- SAUDE;P...</td>\n",
       "      <td>7</td>\n",
       "      <td>poder judiciáriotribunal justiça estado rio gr...</td>\n",
       "    </tr>\n",
       "    <tr>\n",
       "      <th>9808</th>\n",
       "      <td>PODER JUDICIÁRIO ESTADO DO RIO GRANDE DO NORTE...</td>\n",
       "      <td>Saúde</td>\n",
       "      <td>Citação</td>\n",
       "      <td>2ª VIJ da Com. Natal</td>\n",
       "      <td>12513</td>\n",
       "      <td>Despacho;Petição Incidental;Despacho;Contestaç...</td>\n",
       "      <td>notaTecnica-242159.pdf - notaTecnica-242159;SI...</td>\n",
       "      <td>1706</td>\n",
       "      <td>poder judiciário estado rio grande norte 2ª va...</td>\n",
       "    </tr>\n",
       "    <tr>\n",
       "      <th>11553</th>\n",
       "      <td>PODER JUDICIÁRIO DO ESTADO DO RIO GRANDE DO NO...</td>\n",
       "      <td>Saúde</td>\n",
       "      <td>Citação</td>\n",
       "      <td>1º JFP da Com. Natal</td>\n",
       "      <td>12494</td>\n",
       "      <td>Certidão;Intimação;Diligência;Contestação - Mu...</td>\n",
       "      <td>LUZIMAR MENDONÇA REBOUÇAS;SMS - Luzimar;RECEIT...</td>\n",
       "      <td>14695</td>\n",
       "      <td>poder judiciário estado rio grande norte1º jui...</td>\n",
       "    </tr>\n",
       "  </tbody>\n",
       "</table>\n",
       "</div>"
      ],
      "text/plain": [
       "                                               teorTexto setorDestino  \\\n",
       "12529  PODER JUDICIÁRIOTRIBUNAL DE JUSTIÇA DO ESTADO ...        Saúde   \n",
       "9808   PODER JUDICIÁRIO ESTADO DO RIO GRANDE DO NORTE...        Saúde   \n",
       "11553  PODER JUDICIÁRIO DO ESTADO DO RIO GRANDE DO NO...        Saúde   \n",
       "\n",
       "       tipoAviso         orgaoJulgador     assuntos  \\\n",
       "12529  Intimação  4ª VFP da Com. Natal  12511;12491   \n",
       "9808     Citação  2ª VIJ da Com. Natal        12513   \n",
       "11553    Citação  1º JFP da Com. Natal        12494   \n",
       "\n",
       "                                              documentos  \\\n",
       "12529  Certidão de decurso de prazo;Contrarrazões;Ato...   \n",
       "9808   Despacho;Petição Incidental;Despacho;Contestaç...   \n",
       "11553  Certidão;Intimação;Diligência;Contestação - Mu...   \n",
       "\n",
       "                                                  anexos  classeProcesso  \\\n",
       "12529  ADITAMENTO - PETIÇÃO INICIAL - ELIANE- SAUDE;P...               7   \n",
       "9808   notaTecnica-242159.pdf - notaTecnica-242159;SI...            1706   \n",
       "11553  LUZIMAR MENDONÇA REBOUÇAS;SMS - Luzimar;RECEIT...           14695   \n",
       "\n",
       "                                    teorTexto_processado  \n",
       "12529  poder judiciáriotribunal justiça estado rio gr...  \n",
       "9808   poder judiciário estado rio grande norte 2ª va...  \n",
       "11553  poder judiciário estado rio grande norte1º jui...  "
      ]
     },
     "execution_count": 59,
     "metadata": {},
     "output_type": "execute_result"
    }
   ],
   "source": [
    "sampled_df.head(3)"
   ]
  },
  {
   "cell_type": "code",
   "execution_count": 60,
   "metadata": {},
   "outputs": [
    {
     "data": {
      "text/html": [
       "<div>\n",
       "<style scoped>\n",
       "    .dataframe tbody tr th:only-of-type {\n",
       "        vertical-align: middle;\n",
       "    }\n",
       "\n",
       "    .dataframe tbody tr th {\n",
       "        vertical-align: top;\n",
       "    }\n",
       "\n",
       "    .dataframe thead th {\n",
       "        text-align: right;\n",
       "    }\n",
       "</style>\n",
       "<table border=\"1\" class=\"dataframe\">\n",
       "  <thead>\n",
       "    <tr style=\"text-align: right;\">\n",
       "      <th></th>\n",
       "      <th>setorDestino</th>\n",
       "      <th>orgaoJulgador</th>\n",
       "      <th>assuntos</th>\n",
       "      <th>classeProcesso</th>\n",
       "      <th>teorTexto_processado</th>\n",
       "    </tr>\n",
       "  </thead>\n",
       "  <tbody>\n",
       "    <tr>\n",
       "      <th>0</th>\n",
       "      <td>Saúde</td>\n",
       "      <td>4ª VFP da Com. Natal</td>\n",
       "      <td>12511;12491</td>\n",
       "      <td>7</td>\n",
       "      <td>poder judiciáriotribunal justiça estado rio gr...</td>\n",
       "    </tr>\n",
       "    <tr>\n",
       "      <th>1</th>\n",
       "      <td>Saúde</td>\n",
       "      <td>2ª VIJ da Com. Natal</td>\n",
       "      <td>12513</td>\n",
       "      <td>1706</td>\n",
       "      <td>poder judiciário estado rio grande norte 2ª va...</td>\n",
       "    </tr>\n",
       "    <tr>\n",
       "      <th>2</th>\n",
       "      <td>Saúde</td>\n",
       "      <td>1º JFP da Com. Natal</td>\n",
       "      <td>12494</td>\n",
       "      <td>14695</td>\n",
       "      <td>poder judiciário estado rio grande norte1º jui...</td>\n",
       "    </tr>\n",
       "  </tbody>\n",
       "</table>\n",
       "</div>"
      ],
      "text/plain": [
       "  setorDestino         orgaoJulgador     assuntos  classeProcesso  \\\n",
       "0        Saúde  4ª VFP da Com. Natal  12511;12491               7   \n",
       "1        Saúde  2ª VIJ da Com. Natal        12513            1706   \n",
       "2        Saúde  1º JFP da Com. Natal        12494           14695   \n",
       "\n",
       "                                teorTexto_processado  \n",
       "0  poder judiciáriotribunal justiça estado rio gr...  \n",
       "1  poder judiciário estado rio grande norte 2ª va...  \n",
       "2  poder judiciário estado rio grande norte1º jui...  "
      ]
     },
     "execution_count": 60,
     "metadata": {},
     "output_type": "execute_result"
    }
   ],
   "source": [
    "sampled_df = sampled_df.drop(columns=['tipoAviso', 'documentos', 'anexos', 'teorTexto']).reset_index(drop=True)\n",
    "sampled_df.head(3)"
   ]
  },
  {
   "cell_type": "code",
   "execution_count": 61,
   "metadata": {},
   "outputs": [],
   "source": [
    "sampled_df.to_csv('../data/processed/pgm-dataset-processado-sampled-to-llm.csv', index=False)"
   ]
  },
  {
   "cell_type": "markdown",
   "metadata": {},
   "source": [
    "# 2. Plot de Histogramas do TeorTexto\n",
    "\n",
    "Plot de histogramas com o comprimento do texto por classe"
   ]
  },
  {
   "cell_type": "code",
   "execution_count": 62,
   "metadata": {},
   "outputs": [
    {
     "name": "stdout",
     "output_type": "stream",
     "text": [
      "Total de palavras em \"teorTexto_processado\": 1907276 palavras\n"
     ]
    }
   ],
   "source": [
    "sampled_df['text_length'] = sampled_df['teorTexto_processado'].apply(len)\n",
    "\n",
    "print(f'Total de palavras em \"teorTexto_processado\": {sampled_df['text_length'].sum()} palavras')"
   ]
  },
  {
   "cell_type": "code",
   "execution_count": 71,
   "metadata": {},
   "outputs": [
    {
     "data": {
      "image/png": "[encoded data removed]",
      "text/plain": [
       "<Figure size 1200x600 with 8 Axes>"
      ]
     },
     "metadata": {},
     "output_type": "display_data"
    }
   ],
   "source": [
    "fig, axs = plt.subplots(nrows=2, ncols=4, figsize=(12, 6))\n",
    "axs = axs.flatten()\n",
    "\n",
    "data_info = {}\n",
    "\n",
    "for i, classe in enumerate(setores_destino):\n",
    "    subset = sampled_df[sampled_df['setorDestino'] == classe]['text_length']\n",
    "\n",
    "    data_info[classe] = {'Média': int(subset.mean()),\n",
    "                         'Máximo': int(subset.max()),\n",
    "                         'Mínimo': int(subset.min()),\n",
    "                         'Desvio Padrão': int(subset.std())}\n",
    "\n",
    "    axs[i].hist(subset, bins=50, alpha=0.7, color='b', edgecolor='black')\n",
    "    axs[i].set_title(f'Classe {classe}')\n",
    "    axs[i].set_xlabel('Comprimento do texto')\n",
    "    axs[i].set_ylabel('Freqûencia')\n",
    "\n",
    "plt.tight_layout()\n",
    "plt.show()"
   ]
  },
  {
   "cell_type": "code",
   "execution_count": 72,
   "metadata": {},
   "outputs": [
    {
     "data": {
      "text/html": [
       "<div>\n",
       "<style scoped>\n",
       "    .dataframe tbody tr th:only-of-type {\n",
       "        vertical-align: middle;\n",
       "    }\n",
       "\n",
       "    .dataframe tbody tr th {\n",
       "        vertical-align: top;\n",
       "    }\n",
       "\n",
       "    .dataframe thead th {\n",
       "        text-align: right;\n",
       "    }\n",
       "</style>\n",
       "<table border=\"1\" class=\"dataframe\">\n",
       "  <thead>\n",
       "    <tr style=\"text-align: right;\">\n",
       "      <th></th>\n",
       "      <th>Saúde</th>\n",
       "      <th>Administrativa</th>\n",
       "      <th>Fiscal</th>\n",
       "      <th>Contabilidade</th>\n",
       "      <th>Judicial</th>\n",
       "      <th>Patrimonial</th>\n",
       "      <th>Meio Ambiente</th>\n",
       "    </tr>\n",
       "  </thead>\n",
       "  <tbody>\n",
       "    <tr>\n",
       "      <th>Média</th>\n",
       "      <td>3469</td>\n",
       "      <td>3992</td>\n",
       "      <td>1585</td>\n",
       "      <td>996</td>\n",
       "      <td>3467</td>\n",
       "      <td>2352</td>\n",
       "      <td>3209</td>\n",
       "    </tr>\n",
       "    <tr>\n",
       "      <th>Máximo</th>\n",
       "      <td>21518</td>\n",
       "      <td>23713</td>\n",
       "      <td>12682</td>\n",
       "      <td>3703</td>\n",
       "      <td>18223</td>\n",
       "      <td>16246</td>\n",
       "      <td>24141</td>\n",
       "    </tr>\n",
       "    <tr>\n",
       "      <th>Mínimo</th>\n",
       "      <td>252</td>\n",
       "      <td>373</td>\n",
       "      <td>364</td>\n",
       "      <td>28</td>\n",
       "      <td>28</td>\n",
       "      <td>337</td>\n",
       "      <td>372</td>\n",
       "    </tr>\n",
       "    <tr>\n",
       "      <th>Desvio Padrão</th>\n",
       "      <td>4208</td>\n",
       "      <td>4604</td>\n",
       "      <td>2493</td>\n",
       "      <td>432</td>\n",
       "      <td>3686</td>\n",
       "      <td>2994</td>\n",
       "      <td>4112</td>\n",
       "    </tr>\n",
       "  </tbody>\n",
       "</table>\n",
       "</div>"
      ],
      "text/plain": [
       "               Saúde  Administrativa  Fiscal  Contabilidade  Judicial  \\\n",
       "Média           3469            3992    1585            996      3467   \n",
       "Máximo         21518           23713   12682           3703     18223   \n",
       "Mínimo           252             373     364             28        28   \n",
       "Desvio Padrão   4208            4604    2493            432      3686   \n",
       "\n",
       "               Patrimonial  Meio Ambiente  \n",
       "Média                 2352           3209  \n",
       "Máximo               16246          24141  \n",
       "Mínimo                 337            372  \n",
       "Desvio Padrão         2994           4112  "
      ]
     },
     "execution_count": 72,
     "metadata": {},
     "output_type": "execute_result"
    }
   ],
   "source": [
    "pd.DataFrame(data=data_info)"
   ]
  },
  {
   "cell_type": "code",
   "execution_count": null,
   "metadata": {},
   "outputs": [],
   "source": []
  }
 ],
 "metadata": {
  "kernelspec": {
   "display_name": ".venv",
   "language": "python",
   "name": "python3"
  },
  "language_info": {
   "codemirror_mode": {
    "name": "ipython",
    "version": 3
   },
   "file_extension": ".py",
   "mimetype": "text/x-python",
   "name": "python",
   "nbconvert_exporter": "python",
   "pygments_lexer": "ipython3",
   "version": "3.12.3"
  }
 },
 "nbformat": 4,
 "nbformat_minor": 2
}
