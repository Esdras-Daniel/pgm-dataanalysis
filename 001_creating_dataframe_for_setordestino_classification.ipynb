{
 "cells": [
  {
   "cell_type": "markdown",
   "id": "135ba5c4",
   "metadata": {},
   "source": [
    "# Dos dados"
   ]
  },
  {
   "cell_type": "markdown",
   "id": "ac1be64d",
   "metadata": {},
   "source": [
    "Existem duas fontes de dados para a classificação do setor destino dos avisos que chegam a PGM:\n",
    "\n",
    "1. Os dados antigos que foram tratados por Nailton, compreendidos entre abril e dezembro de 2024 (15952 avisos)\n",
    "\n",
    "    * *Está presente apenas no arquivo pgm-dataset.csv*\n",
    "\n",
    "2. Os dados novos tratados por Esdras, compreendidos entre janeiro e maio de 2025 (cerca de 34000 avisos)\n",
    "\n",
    "    * *O setor destino está na planilha tramitacoes_pje_janeiro_maio_2025.xls e os textos estão em df_avisos.csv*\n",
    "\n",
    "<h3> <b>Objetivo:</b> Criar 3 DataFrames diferentes com os avisos antigos, novos e uma junção dos dois. </h3>\n",
    "\n",
    "* Eles devem ter os mesmos atributos normalizados (mesmo formato) em todos os DataFrames.\n",
    "* São os atributos: id_aviso, data_hora, teor_texto, setor_destino.\n",
    "* *OBS.*: o atributo data_hora não tem tanta significância, uma vez que nos dados antigos ela virá da coluna 'dataAviso' e nos dados novos ela virá da coluna 'dataenvioDestino' presente no excel."
   ]
  },
  {
   "cell_type": "markdown",
   "id": "61e1952f",
   "metadata": {},
   "source": [
    "# 1. Criando os dataframes"
   ]
  },
  {
   "cell_type": "code",
   "execution_count": 1,
   "id": "e1efbe8f",
   "metadata": {},
   "outputs": [],
   "source": [
    "import pandas as pd\n",
    "\n",
    "df_antigo = pd.read_csv('data/raw/pgm-dataset.csv')\n",
    "df_novo_1 = pd.read_csv('data/raw/df_avisos.csv')\n",
    "df_novo_2 = pd.read_excel('data/raw/tramitacoes_pje_janeiro_maio_2025.xls')"
   ]
  },
  {
   "cell_type": "markdown",
   "id": "0ab22548",
   "metadata": {},
   "source": [
    "## 1.1 - Primeiro DataFrame (2024)"
   ]
  },
  {
   "cell_type": "code",
   "execution_count": 2,
   "id": "7e39e1f4",
   "metadata": {},
   "outputs": [
    {
     "data": {
      "text/html": [
       "<div>\n",
       "<style scoped>\n",
       "    .dataframe tbody tr th:only-of-type {\n",
       "        vertical-align: middle;\n",
       "    }\n",
       "\n",
       "    .dataframe tbody tr th {\n",
       "        vertical-align: top;\n",
       "    }\n",
       "\n",
       "    .dataframe thead th {\n",
       "        text-align: right;\n",
       "    }\n",
       "</style>\n",
       "<table border=\"1\" class=\"dataframe\">\n",
       "  <thead>\n",
       "    <tr style=\"text-align: right;\">\n",
       "      <th></th>\n",
       "      <th>id_aviso</th>\n",
       "      <th>data_hora</th>\n",
       "      <th>teor_texto</th>\n",
       "      <th>setor_destino</th>\n",
       "    </tr>\n",
       "  </thead>\n",
       "  <tbody>\n",
       "    <tr>\n",
       "      <th>0</th>\n",
       "      <td>18612632.0</td>\n",
       "      <td>2024-06-21 05:00:40</td>\n",
       "      <td>PODER JUDICIÁRIO ESTADO DO RIO GRANDE DO NORTE...</td>\n",
       "      <td>Procuradoria da Sa�de</td>\n",
       "    </tr>\n",
       "    <tr>\n",
       "      <th>1</th>\n",
       "      <td>18629258.0</td>\n",
       "      <td>2024-06-25 23:59:59</td>\n",
       "      <td>PODER JUDICIÁRIO DO ESTADO DO RIO GRANDE DO NO...</td>\n",
       "      <td>Procuradoria Administrativa</td>\n",
       "    </tr>\n",
       "    <tr>\n",
       "      <th>2</th>\n",
       "      <td>18629422.0</td>\n",
       "      <td>2024-06-18 09:27:16</td>\n",
       "      <td>PODER JUDICIÁRIO DO ESTADO DO RIO GRANDE DO NO...</td>\n",
       "      <td>CARTORIO</td>\n",
       "    </tr>\n",
       "  </tbody>\n",
       "</table>\n",
       "</div>"
      ],
      "text/plain": [
       "     id_aviso            data_hora  \\\n",
       "0  18612632.0  2024-06-21 05:00:40   \n",
       "1  18629258.0  2024-06-25 23:59:59   \n",
       "2  18629422.0  2024-06-18 09:27:16   \n",
       "\n",
       "                                          teor_texto  \\\n",
       "0  PODER JUDICIÁRIO ESTADO DO RIO GRANDE DO NORTE...   \n",
       "1  PODER JUDICIÁRIO DO ESTADO DO RIO GRANDE DO NO...   \n",
       "2  PODER JUDICIÁRIO DO ESTADO DO RIO GRANDE DO NO...   \n",
       "\n",
       "                 setor_destino  \n",
       "0        Procuradoria da Sa�de  \n",
       "1  Procuradoria Administrativa  \n",
       "2                     CARTORIO  "
      ]
     },
     "execution_count": 2,
     "metadata": {},
     "output_type": "execute_result"
    }
   ],
   "source": [
    "# Apenas selecionando os dados dos avisos antigos para formar o primeiro dataframe\n",
    "\n",
    "df_avisos_2024 = pd.DataFrame(data=df_antigo[['idAviso', 'dataAviso', 'teorTexto', 'setorDestino']].values,\n",
    "                              columns=['id_aviso', 'data_hora', 'teor_texto', 'setor_destino'])\n",
    "\n",
    "df_avisos_2024.head(3)"
   ]
  },
  {
   "cell_type": "markdown",
   "id": "5c5e119e",
   "metadata": {},
   "source": [
    "## 1.2 - Segundo DataFrame (2025)\n",
    "\n",
    "É necessário:\n",
    "1. Filtrar do df_novo_2 apenas aqueles que tem um setor destino válido e recuperar os id's válidos\n",
    "2. Filtrar do df_novo_1 apenas aqueles que tem id válido (obtido no passo 1)\n",
    "3. Fazer o Merge dos dos Dataframes e filtrar apenas as colunas necessárias"
   ]
  },
  {
   "cell_type": "code",
   "execution_count": 3,
   "id": "b536f2a6",
   "metadata": {},
   "outputs": [
    {
     "name": "stdout",
     "output_type": "stream",
     "text": [
      "Temos 0 documentos com destino inválido!\n"
     ]
    }
   ],
   "source": [
    "# 1. Filtrar do df_novo_2 apenas aqueles que tem um setor destino válido e recuperar os id's válidos\n",
    "print(f'Temos {df_novo_2['setordestino'].isna().sum()} documentos com destino inválido!')\n",
    "df_labels_validos = df_novo_2[df_novo_2['setordestino'].notnull()]\n",
    "ids_validos = df_labels_validos['idavisopje'].tolist()\n",
    "\n",
    "# 2. Filtrar do df_novo_1 apenas aqueles que tem id válido (obtido no passo 1)\n",
    "df_textos_filtrados = df_novo_1[df_novo_1['id_aviso'].isin(ids_validos)]\n",
    "df_textos_filtrados.rename(columns={'id_aviso':'idavisopje'}, inplace=True) # Renomeando para fazer o merge\n",
    "\n",
    "# 3. Fazer o Merge dos dos Dataframes e filtrar apenas as colunas necessárias\n",
    "df_merge = pd.merge(df_labels_validos, df_textos_filtrados, on='idavisopje')\n",
    "df_avisos_2025 = df_merge[['idavisopje', 'dataenvioDestino', 'teor_texto', 'setordestino']].copy()\n",
    "df_avisos_2025.rename(columns={df_avisos_2025.columns[i]: df_avisos_2024.columns[i] for i in range(4)}, inplace=True)\n",
    "df_avisos_2025['data_hora'] = df_avisos_2025['data_hora'].apply(lambda x: x.split('.')[0])"
   ]
  },
  {
   "cell_type": "code",
   "execution_count": 4,
   "id": "d46249cc",
   "metadata": {},
   "outputs": [
    {
     "data": {
      "text/html": [
       "<div>\n",
       "<style scoped>\n",
       "    .dataframe tbody tr th:only-of-type {\n",
       "        vertical-align: middle;\n",
       "    }\n",
       "\n",
       "    .dataframe tbody tr th {\n",
       "        vertical-align: top;\n",
       "    }\n",
       "\n",
       "    .dataframe thead th {\n",
       "        text-align: right;\n",
       "    }\n",
       "</style>\n",
       "<table border=\"1\" class=\"dataframe\">\n",
       "  <thead>\n",
       "    <tr style=\"text-align: right;\">\n",
       "      <th></th>\n",
       "      <th>id_aviso</th>\n",
       "      <th>data_hora</th>\n",
       "      <th>teor_texto</th>\n",
       "      <th>setor_destino</th>\n",
       "    </tr>\n",
       "  </thead>\n",
       "  <tbody>\n",
       "    <tr>\n",
       "      <th>0</th>\n",
       "      <td>21303687</td>\n",
       "      <td>2025-01-02 09:34:16</td>\n",
       "      <td>PODER JUDICIÁRIO DO ESTADO DO RIO GRANDE DO NO...</td>\n",
       "      <td>Procuradoria Administrativa</td>\n",
       "    </tr>\n",
       "    <tr>\n",
       "      <th>1</th>\n",
       "      <td>21303704</td>\n",
       "      <td>2025-01-02 09:31:16</td>\n",
       "      <td>PODER JUDICIÁRIO DO ESTADO DO RIO GRANDE DO NO...</td>\n",
       "      <td>Procuradoria Administrativa</td>\n",
       "    </tr>\n",
       "    <tr>\n",
       "      <th>2</th>\n",
       "      <td>21305478</td>\n",
       "      <td>2025-01-02 09:32:58</td>\n",
       "      <td>PODER JUDICIÁRIO DO ESTADO DO RIO GRANDE DO NO...</td>\n",
       "      <td>Procuradoria Administrativa</td>\n",
       "    </tr>\n",
       "  </tbody>\n",
       "</table>\n",
       "</div>"
      ],
      "text/plain": [
       "   id_aviso            data_hora  \\\n",
       "0  21303687  2025-01-02 09:34:16   \n",
       "1  21303704  2025-01-02 09:31:16   \n",
       "2  21305478  2025-01-02 09:32:58   \n",
       "\n",
       "                                          teor_texto  \\\n",
       "0  PODER JUDICIÁRIO DO ESTADO DO RIO GRANDE DO NO...   \n",
       "1  PODER JUDICIÁRIO DO ESTADO DO RIO GRANDE DO NO...   \n",
       "2  PODER JUDICIÁRIO DO ESTADO DO RIO GRANDE DO NO...   \n",
       "\n",
       "                 setor_destino  \n",
       "0  Procuradoria Administrativa  \n",
       "1  Procuradoria Administrativa  \n",
       "2  Procuradoria Administrativa  "
      ]
     },
     "execution_count": 4,
     "metadata": {},
     "output_type": "execute_result"
    }
   ],
   "source": [
    "df_avisos_2025.head(3)"
   ]
  },
  {
   "cell_type": "markdown",
   "id": "fb78da48",
   "metadata": {},
   "source": [
    "# 2. Tratando os DataFrames"
   ]
  },
  {
   "cell_type": "markdown",
   "id": "e226c6ea",
   "metadata": {},
   "source": [
    "## 2.1 - Removendo valores nulos de setor_destino e teor_texto"
   ]
  },
  {
   "cell_type": "code",
   "execution_count": 5,
   "id": "a2983872",
   "metadata": {},
   "outputs": [
    {
     "name": "stdout",
     "output_type": "stream",
     "text": [
      "Antes o DataFrame tinha: 15942 objetos, agora tem 15356. Uma redução de 3.68%\n"
     ]
    },
    {
     "data": {
      "text/plain": [
       "id_aviso         0\n",
       "data_hora        0\n",
       "teor_texto       0\n",
       "setor_destino    0\n",
       "dtype: int64"
      ]
     },
     "execution_count": 5,
     "metadata": {},
     "output_type": "execute_result"
    }
   ],
   "source": [
    "# Df Antigo\n",
    "len_df_antes = len(df_avisos_2024)\n",
    "df_avisos_2024.dropna(subset=['teor_texto', 'setor_destino'], inplace=True, ignore_index=True)\n",
    "len_df_depois = len(df_avisos_2024)\n",
    "print(f'Antes o DataFrame tinha: {len_df_antes} objetos, agora tem {len_df_depois}. Uma redução de {(len_df_antes-len_df_depois)/len_df_antes*100:.2f}%')\n",
    "\n",
    "df_avisos_2024.isnull().sum()"
   ]
  },
  {
   "cell_type": "code",
   "execution_count": 6,
   "id": "f2a44c58",
   "metadata": {},
   "outputs": [
    {
     "name": "stdout",
     "output_type": "stream",
     "text": [
      "Antes o DataFrame tinha: 34903 objetos, agora tem 34903. Uma redução de 0.00%\n"
     ]
    },
    {
     "data": {
      "text/plain": [
       "id_aviso         0\n",
       "data_hora        0\n",
       "teor_texto       0\n",
       "setor_destino    0\n",
       "dtype: int64"
      ]
     },
     "execution_count": 6,
     "metadata": {},
     "output_type": "execute_result"
    }
   ],
   "source": [
    "# Df Novo\n",
    "len_df_antes = len(df_avisos_2025)\n",
    "df_avisos_2025.dropna(subset=['teor_texto', 'setor_destino'], inplace=True, ignore_index=True)\n",
    "len_df_depois = len(df_avisos_2025)\n",
    "print(f'Antes o DataFrame tinha: {len_df_antes} objetos, agora tem {len_df_depois}. Uma redução de {(len_df_antes-len_df_depois)/len_df_antes*100:.2f}%')\n",
    "\n",
    "df_avisos_2025.isnull().sum()"
   ]
  },
  {
   "cell_type": "markdown",
   "id": "c6ec961d",
   "metadata": {},
   "source": [
    "## 2.2 - Tratando os setores destino"
   ]
  },
  {
   "cell_type": "code",
   "execution_count": 12,
   "id": "fcd77ad2",
   "metadata": {},
   "outputs": [],
   "source": [
    "# Camel Case\n",
    "def to_camel_case(text):\n",
    "    text = text.lower()\n",
    "    text = text.split()\n",
    "    return ' '.join([word.capitalize() if len(word) > 2 else word for word in text])\n",
    "\n",
    "df_avisos_2024['setor_destino'] = df_avisos_2024['setor_destino'].apply(to_camel_case)\n",
    "df_avisos_2025['setor_destino'] = df_avisos_2025['setor_destino'].apply(to_camel_case)"
   ]
  },
  {
   "cell_type": "code",
   "execution_count": 20,
   "id": "0d215c87",
   "metadata": {},
   "outputs": [],
   "source": [
    "# Corrigindo erros de codificação\n",
    "\n",
    "dict_swap = {'Departamento de C�lculos e Contabilidade': 'Departamento de Cálculos e Contabilidade',\n",
    "             'Procuradoria da Sa�de': 'Procuradoria da Saúde',\n",
    "             'Setor de Administra�?o Geral': 'Setor de Administração Geral',\n",
    "             'Procuradoria de Recupera�?o da D�vida Ativa': 'Procuradoria de Recuperação da Dívida Ativa'}\n",
    "\n",
    "df_avisos_2024['setor_destino'] = df_avisos_2024['setor_destino'].replace(dict_swap)"
   ]
  },
  {
   "cell_type": "markdown",
   "id": "91d0e374",
   "metadata": {},
   "source": [
    "# 3. Salvando os DataFrames"
   ]
  },
  {
   "cell_type": "markdown",
   "id": "1fc9f213",
   "metadata": {},
   "source": [
    "## 3.1 - Concatenando os dois dataframes em um só"
   ]
  },
  {
   "cell_type": "code",
   "execution_count": 36,
   "id": "15da22ba",
   "metadata": {},
   "outputs": [
    {
     "data": {
      "text/html": [
       "<div>\n",
       "<style scoped>\n",
       "    .dataframe tbody tr th:only-of-type {\n",
       "        vertical-align: middle;\n",
       "    }\n",
       "\n",
       "    .dataframe tbody tr th {\n",
       "        vertical-align: top;\n",
       "    }\n",
       "\n",
       "    .dataframe thead th {\n",
       "        text-align: right;\n",
       "    }\n",
       "</style>\n",
       "<table border=\"1\" class=\"dataframe\">\n",
       "  <thead>\n",
       "    <tr style=\"text-align: right;\">\n",
       "      <th></th>\n",
       "      <th>id_aviso</th>\n",
       "      <th>data_hora</th>\n",
       "      <th>teor_texto</th>\n",
       "      <th>setor_destino</th>\n",
       "    </tr>\n",
       "  </thead>\n",
       "  <tbody>\n",
       "    <tr>\n",
       "      <th>0</th>\n",
       "      <td>18612632.0</td>\n",
       "      <td>2024-06-21 05:00:40</td>\n",
       "      <td>PODER JUDICIÁRIO ESTADO DO RIO GRANDE DO NORTE...</td>\n",
       "      <td>Procuradoria da Saúde</td>\n",
       "    </tr>\n",
       "    <tr>\n",
       "      <th>1</th>\n",
       "      <td>18629258.0</td>\n",
       "      <td>2024-06-25 23:59:59</td>\n",
       "      <td>PODER JUDICIÁRIO DO ESTADO DO RIO GRANDE DO NO...</td>\n",
       "      <td>Procuradoria Administrativa</td>\n",
       "    </tr>\n",
       "    <tr>\n",
       "      <th>2</th>\n",
       "      <td>18629422.0</td>\n",
       "      <td>2024-06-18 09:27:16</td>\n",
       "      <td>PODER JUDICIÁRIO DO ESTADO DO RIO GRANDE DO NO...</td>\n",
       "      <td>Cartorio</td>\n",
       "    </tr>\n",
       "  </tbody>\n",
       "</table>\n",
       "</div>"
      ],
      "text/plain": [
       "     id_aviso            data_hora  \\\n",
       "0  18612632.0  2024-06-21 05:00:40   \n",
       "1  18629258.0  2024-06-25 23:59:59   \n",
       "2  18629422.0  2024-06-18 09:27:16   \n",
       "\n",
       "                                          teor_texto  \\\n",
       "0  PODER JUDICIÁRIO ESTADO DO RIO GRANDE DO NORTE...   \n",
       "1  PODER JUDICIÁRIO DO ESTADO DO RIO GRANDE DO NO...   \n",
       "2  PODER JUDICIÁRIO DO ESTADO DO RIO GRANDE DO NO...   \n",
       "\n",
       "                 setor_destino  \n",
       "0        Procuradoria da Saúde  \n",
       "1  Procuradoria Administrativa  \n",
       "2                     Cartorio  "
      ]
     },
     "execution_count": 36,
     "metadata": {},
     "output_type": "execute_result"
    }
   ],
   "source": [
    "df_avisos_concat = pd.concat([df_avisos_2024, df_avisos_2025], ignore_index=True)\n",
    "df_avisos_concat.head(3)"
   ]
  },
  {
   "cell_type": "markdown",
   "id": "4d4d2c73",
   "metadata": {},
   "source": [
    "## 3.2 - Salvando os DataFrames"
   ]
  },
  {
   "cell_type": "code",
   "execution_count": 37,
   "id": "76fff30e",
   "metadata": {},
   "outputs": [
    {
     "name": "stdout",
     "output_type": "stream",
     "text": [
      "DataFframe salvo em: data/processed/df_avisos_antigos.csv\n",
      "DataFframe salvo em: data/processed/df_avisos_novos.csv\n",
      "DataFframe salvo em: data/processed/df_avisos_completos.csv\n"
     ]
    }
   ],
   "source": [
    "import os\n",
    "\n",
    "def save_csv(df, path):\n",
    "    if os.path.exists(path):\n",
    "        print(f'Arquivo já existe: {path}')\n",
    "    else:\n",
    "        df.to_csv(path, index=False)\n",
    "        print(f'DataFframe salvo em: {path}')\n",
    "\n",
    "saving_path = 'data/processed'\n",
    "\n",
    "save_csv(df_avisos_2024, os.path.join(saving_path, 'df_avisos_antigos.csv'))\n",
    "save_csv(df_avisos_2025, os.path.join(saving_path, 'df_avisos_novos.csv'))\n",
    "save_csv(df_avisos_concat, os.path.join(saving_path, 'df_avisos_completos.csv'))"
   ]
  }
 ],
 "metadata": {
  "kernelspec": {
   "display_name": ".venv",
   "language": "python",
   "name": "python3"
  },
  "language_info": {
   "codemirror_mode": {
    "name": "ipython",
    "version": 3
   },
   "file_extension": ".py",
   "mimetype": "text/x-python",
   "name": "python",
   "nbconvert_exporter": "python",
   "pygments_lexer": "ipython3",
   "version": "3.12.3"
  }
 },
 "nbformat": 4,
 "nbformat_minor": 5
}
